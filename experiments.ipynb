{
 "cells": [
  {
   "cell_type": "markdown",
   "id": "26644c96",
   "metadata": {},
   "source": [
    "# 1D Implementation and modification of ”Talent vs Luck” (TvL) model \n",
    "- 2022 Ig Novel prize winner for economics\n",
    "- Title: Talent vs Luck: the role of randomness in success and failure\n",
    "- Authors: A. Pluchino∗ , A. E. Biondo† , A. Rapisarda‡\n",
    "- Paper link: https://arxiv.org/pdf/1802.07068.pdf"
   ]
  },
  {
   "cell_type": "markdown",
   "id": "a7641c4e",
   "metadata": {},
   "source": [
    "## Basic settings"
   ]
  },
  {
   "cell_type": "code",
   "execution_count": 1,
   "id": "ff1b9ac9",
   "metadata": {},
   "outputs": [],
   "source": [
    "import tqdm \n",
    "import numpy as np\n",
    "from matplotlib import pyplot as plt\n",
    "\n",
    "# define experiment constants\n",
    "N = 100 # number of people\n",
    "p_luck = 0.5 # percentage of luck event\n",
    "town_size = 4000\n",
    "starting_capital = 10\n",
    "\n",
    "N_E = int(N/2) # number of lucky/unlucky events\n",
    "N_luck = int(N_E*p_luck) # number of lucky events"
   ]
  },
  {
   "cell_type": "code",
   "execution_count": 2,
   "id": "d752a45a",
   "metadata": {},
   "outputs": [
    {
     "data": {
      "image/png": "[encoded data removed]",
      "text/plain": [
       "<Figure size 432x288 with 1 Axes>"
      ]
     },
     "metadata": {
      "needs_background": "light"
     },
     "output_type": "display_data"
    }
   ],
   "source": [
    "# define talents\n",
    "talents = np.random.normal(0.6, 0.1, N)\n",
    "talents[talents>0.99] = 0.99\n",
    "talents[talents<0.01] = 0.01\n",
    "plt.hist(talents)\n",
    "plt.xlabel('Talent')\n",
    "plt.ylabel('Count')\n",
    "plt.show()"
   ]
  },
  {
   "cell_type": "code",
   "execution_count": 3,
   "id": "30b5efde",
   "metadata": {},
   "outputs": [
    {
     "data": {
      "image/png": "[encoded data removed]",
      "text/plain": [
       "<Figure size 432x288 with 1 Axes>"
      ]
     },
     "metadata": {
      "needs_background": "light"
     },
     "output_type": "display_data"
    }
   ],
   "source": [
    "# define cautions: Higher caution keeps individual from unlucky events\n",
    "cautions = np.random.normal(0.6, 0.1, N)\n",
    "cautions[cautions>0.99] = 0.99\n",
    "cautions[cautions<0.01] = 0.01\n",
    "plt.hist(cautions)\n",
    "plt.xlabel('Caution')\n",
    "plt.ylabel('Count')\n",
    "plt.show()"
   ]
  },
  {
   "cell_type": "code",
   "execution_count": 4,
   "id": "a65c6159",
   "metadata": {},
   "outputs": [
    {
     "data": {
      "image/png": "[encoded data removed]",
      "text/plain": [
       "<Figure size 432x288 with 1 Axes>"
      ]
     },
     "metadata": {
      "needs_background": "light"
     },
     "output_type": "display_data"
    }
   ],
   "source": [
    "# define vision: Better vision allows individual to expose to more lucky events\n",
    "visions = np.random.normal(0.6, 0.1, N)\n",
    "visions[visions>0.99] = 0.99\n",
    "visions[visions<0.01] = 0.01\n",
    "plt.hist(visions)\n",
    "plt.xlabel('Vision')\n",
    "plt.ylabel('Count')\n",
    "plt.show()"
   ]
  },
  {
   "cell_type": "markdown",
   "id": "242ce641",
   "metadata": {},
   "source": [
    "## Experiments"
   ]
  },
  {
   "cell_type": "code",
   "execution_count": 5,
   "id": "52052897",
   "metadata": {},
   "outputs": [],
   "source": [
    "n_simulation = 10\n",
    "n_iteration = 80\n",
    "   \n",
    "capitals = np.ones(N) * starting_capital\n",
    "positions = np.random.choice(town_size, (N, 1), replace=False)\n",
    "\n",
    "def move_events(events, town_size=201, step_size = 1):\n",
    "    events += np.random.choice([-step_size, step_size], events.shape[0])\n",
    "    events[events<0] += town_size\n",
    "    events[events>town_size] -= town_size\n",
    "    return events"
   ]
  },
  {
   "cell_type": "code",
   "execution_count": 6,
   "id": "dc1046e8",
   "metadata": {},
   "outputs": [
    {
     "name": "stderr",
     "output_type": "stream",
     "text": [
      "100%|█████████████████████████████████████████████████████████████████████████████████| 10/10 [00:00<00:00, 170.06it/s]"
     ]
    },
    {
     "name": "stdout",
     "output_type": "stream",
     "text": [
      "Top 10 richest people own 0.357 of total capital in the town\n"
     ]
    },
    {
     "name": "stderr",
     "output_type": "stream",
     "text": [
      "\n"
     ]
    },
    {
     "data": {
      "image/png": "[encoded data removed]",
      "text/plain": [
       "<Figure size 432x288 with 2 Axes>"
      ]
     },
     "metadata": {
      "needs_background": "light"
     },
     "output_type": "display_data"
    }
   ],
   "source": [
    "# Scenario 1: Different talents\n",
    "for n in tqdm.tqdm(range(n_simulation), total = n_simulation):\n",
    "    simulated_capitals = capitals.copy()\n",
    "    events = np.random.choice(town_size, N_E, replace=False)\n",
    "    lucky_events, unlucky_events = events[:N_luck], events[N_luck:]\n",
    "    for iteration in range(n_iteration):\n",
    "        lucky_events, unlucky_events = move_events(lucky_events), move_events(unlucky_events)\n",
    "        met_unluck = np.in1d(positions, unlucky_events)\n",
    "        seized_luck = np.logical_and(np.in1d(positions, lucky_events), talents > np.random.random(N))\n",
    "        simulated_capitals[met_unluck] /= 2\n",
    "        simulated_capitals[seized_luck] *= 2\n",
    "    plt.scatter(talents, simulated_capitals, c=talents, cmap = 'coolwarm')\n",
    "    \n",
    "sorted_capitals = sorted(list(simulated_capitals))\n",
    "print ('Top 10 richest people own %.3f of total capital in the town' % (sum(sorted_capitals[-10:])/sum(sorted_capitals))) \n",
    "plt.xlabel('Talent')\n",
    "plt.ylabel('Capital')\n",
    "plt.colorbar()\n",
    "plt.show()"
   ]
  },
  {
   "cell_type": "code",
   "execution_count": 7,
   "id": "8cef87a1",
   "metadata": {},
   "outputs": [
    {
     "name": "stderr",
     "output_type": "stream",
     "text": [
      "100%|█████████████████████████████████████████████████████████████████████████████████| 10/10 [00:00<00:00, 159.26it/s]"
     ]
    },
    {
     "name": "stdout",
     "output_type": "stream",
     "text": [
      "Top 10 richest people own 0.282 of total capital in the town\n"
     ]
    },
    {
     "name": "stderr",
     "output_type": "stream",
     "text": [
      "\n"
     ]
    },
    {
     "data": {
      "image/png": "[encoded data removed]",
      "text/plain": [
       "<Figure size 432x288 with 2 Axes>"
      ]
     },
     "metadata": {
      "needs_background": "light"
     },
     "output_type": "display_data"
    }
   ],
   "source": [
    "# Scenario 2: Different talent and incaution\n",
    "for n in tqdm.tqdm(range(n_simulation), total = n_simulation):\n",
    "    simulated_capitals = capitals.copy()\n",
    "    events = np.random.choice(town_size, N_E, replace=False)\n",
    "    lucky_events, unlucky_events = events[:N_luck], events[N_luck:]\n",
    "    for iteration in range(n_iteration):\n",
    "        lucky_events, unlucky_events = move_events(lucky_events), move_events(unlucky_events)\n",
    "        met_unluck = np.logical_and(np.in1d(positions, unlucky_events), cautions < np.random.random(N))\n",
    "        seized_luck = np.logical_and(np.in1d(positions, lucky_events), talents > np.random.random(N))\n",
    "        simulated_capitals[met_unluck] /= 2\n",
    "        simulated_capitals[seized_luck] *= 2\n",
    "        \n",
    "    plt.scatter(cautions, simulated_capitals, c=talents, cmap = 'coolwarm')\n",
    "    \n",
    "sorted_capitals = sorted(list(simulated_capitals))\n",
    "print ('Top 10 richest people own %.3f of total capital in the town' % (sum(sorted_capitals[-10:])/sum(sorted_capitals)))\n",
    "plt.xlabel('Caution')\n",
    "plt.ylabel('Capital')\n",
    "plt.colorbar()\n",
    "plt.show()"
   ]
  },
  {
   "cell_type": "code",
   "execution_count": 8,
   "id": "af42248b",
   "metadata": {},
   "outputs": [
    {
     "name": "stderr",
     "output_type": "stream",
     "text": [
      "100%|██████████████████████████████████████████████████████████████████████████████████| 10/10 [00:00<00:00, 28.34it/s]"
     ]
    },
    {
     "name": "stdout",
     "output_type": "stream",
     "text": [
      "Top 10 richest people own 1.000 of total capital in the town\n"
     ]
    },
    {
     "name": "stderr",
     "output_type": "stream",
     "text": [
      "\n"
     ]
    },
    {
     "data": {
      "image/png": "[encoded data removed]",
      "text/plain": [
       "<Figure size 432x288 with 2 Axes>"
      ]
     },
     "metadata": {
      "needs_background": "light"
     },
     "output_type": "display_data"
    }
   ],
   "source": [
    "# Scenario 3: Different talent and vision\n",
    "\n",
    "vision_window = 10\n",
    "for n in tqdm.tqdm(range(n_simulation), total = n_simulation):\n",
    "    simulated_capitals = capitals.copy()\n",
    "    events = np.random.choice(town_size, N_E, replace=False)\n",
    "    lucky_events, unlucky_events = events[:N_luck], events[N_luck:]\n",
    "    for iteration in range(n_iteration):\n",
    "        lucky_events, unlucky_events = move_events(lucky_events), move_events(unlucky_events)\n",
    "        met_unluck = np.in1d(positions, unlucky_events)\n",
    "        seized_luck = np.in1d(positions, -1)\n",
    "        for x in np.arange(-vision_window, vision_window):\n",
    "            vision_luck = np.logical_and(np.in1d(positions+x, lucky_events), talents > np.random.random(N))\n",
    "            vision_luck = np.logical_and(vision_luck, visions > (abs(x)/vision_window-0.1))\n",
    "            seized_luck = np.logical_or(vision_luck, seized_luck)\n",
    "#             simulated_capitals[vision_luck] *= 2\n",
    "        \n",
    "        simulated_capitals[met_unluck] /= 2\n",
    "        simulated_capitals[seized_luck] *= 2\n",
    "        \n",
    "    plt.scatter(visions, simulated_capitals, c=talents, cmap = 'coolwarm')\n",
    "    \n",
    "sorted_capitals = sorted(list(simulated_capitals))\n",
    "print ('Top 10 richest people own %.3f of total capital in the town' % (sum(sorted_capitals[-10:])/sum(sorted_capitals)))\n",
    "plt.xlabel('Vision')\n",
    "plt.ylabel('Capital')\n",
    "plt.colorbar()\n",
    "plt.show()"
   ]
  }
 ],
 "metadata": {
  "kernelspec": {
   "display_name": "Python 3 (ipykernel)",
   "language": "python",
   "name": "python3"
  },
  "language_info": {
   "codemirror_mode": {
    "name": "ipython",
    "version": 3
   },
   "file_extension": ".py",
   "mimetype": "text/x-python",
   "name": "python",
   "nbconvert_exporter": "python",
   "pygments_lexer": "ipython3",
   "version": "3.9.7"
  }
 },
 "nbformat": 4,
 "nbformat_minor": 5
}
